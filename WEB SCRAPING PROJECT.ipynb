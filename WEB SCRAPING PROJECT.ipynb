{
 "cells": [
  {
   "cell_type": "code",
   "execution_count": 1,
   "metadata": {},
   "outputs": [],
   "source": [
    "import requests #acessing the url\n",
    "from bs4 import BeautifulSoup\n",
    "import smtplib #it enables you to send emails, it is already installed"
   ]
  },
  {
   "cell_type": "code",
   "execution_count": 2,
   "metadata": {},
   "outputs": [],
   "source": [
    "url = 'https://www.amazon.in/Sony-Full-Frame-Mirrorless-Interchangeable-Lens-F3-5-5-6/dp/B07B45D8WV/ref=sr_1_1?keywords=sony+a7&qid=1566149774&s=gateway&sr=8-1'"
   ]
  },
  {
   "cell_type": "code",
   "execution_count": 3,
   "metadata": {},
   "outputs": [],
   "source": [
    "headers = {'User-agent' : 'Mozilla/5.0 (Windows NT 10.0; Win64; x64) AppleWebKit/537.36 (KHTML, like Gecko) Chrome/76.0.3809.100 Safari/537.36'}  #tells us about the browser"
   ]
  },
  {
   "cell_type": "code",
   "execution_count": 31,
   "metadata": {},
   "outputs": [],
   "source": [
    "def check_price():\n",
    "    page = requests.get(url, headers=headers) #calling the url,retriving data from that website\n",
    "    soup = BeautifulSoup(page.content, 'html.parser')\n",
    "    title = soup.find(id='productTitle').get_text() #to get only the text\n",
    "    print(title.strip())\n",
    "    price = soup.find(id='priceblock_ourprice').get_text()\n",
    "    converted_price = price[1:9] #checks the first nine,removing rupee sign n decimal\n",
    "    cp=converted_price.replace(',','')[1:] #converting the string price into float\n",
    "    #float(cp)\n",
    "    if(cp>'10000'):\n",
    "        send_mail()"
   ]
  },
  {
   "cell_type": "code",
   "execution_count": 34,
   "metadata": {},
   "outputs": [],
   "source": [
    "def send_mail():\n",
    "    server = smtplib.SMTP('smtp.gmail.com', 587)\n",
    "    server.ehlo() #Extended HELO (EHLO) is an Extended Simple Mail Transfer Protocol (ESMTP) command sent by an email server to identify itself when connecting to another email server to start the process of sending an email\n",
    "    server.starttls()\n",
    "    server.ehlo()\n",
    "    \n",
    "    server.login('sharmanikki0719@gmail.com','$$$$$$$$$') #to login, first varibale user, second password\n",
    "    \n",
    "    subject = 'Price fell down!'\n",
    "    body = 'Check the amazon link : https://www.amazon.in/Sony-Full-Frame-Mirrorless-Interchangeable-Lens-F3-5-5-6/dp/B07B45D8WV/ref=sr_1_1?keywords=sony+a7&qid=1566149774&s=gateway&sr=8-1'\n",
    "    \n",
    "    msg = f\"Subject : {subject}\\n\\n{body}\"\n",
    "    server.sendmail(\n",
    "        'sharmanikki0719@gmail.com','jfksharma17@gmail.com',msg)  #to,from,msg\n",
    "    print('Hey Email has been sent')\n",
    "    \n",
    "    server.quit() #closing the connection"
   ]
  },
  {
   "cell_type": "code",
   "execution_count": 35,
   "metadata": {},
   "outputs": [
    {
     "name": "stdout",
     "output_type": "stream",
     "text": [
      "Sony a7 III Full-Frame Mirrorless Interchangeable-Lens Camera (with 28-70mm F3.5-5.6 OSS Lens)\n",
      "Hey Email has been sent\n"
     ]
    }
   ],
   "source": [
    "check_price()"
   ]
  }
 ],
 "metadata": {
  "kernelspec": {
   "display_name": "Python 3",
   "language": "python",
   "name": "python3"
  },
  "language_info": {
   "codemirror_mode": {
    "name": "ipython",
    "version": 3
   },
   "file_extension": ".py",
   "mimetype": "text/x-python",
   "name": "python",
   "nbconvert_exporter": "python",
   "pygments_lexer": "ipython3",
   "version": "3.6.8"
  }
 },
 "nbformat": 4,
 "nbformat_minor": 2
}
